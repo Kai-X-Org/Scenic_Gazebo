{
 "cells": [
  {
   "cell_type": "code",
   "execution_count": 1,
   "id": "f9485a35",
   "metadata": {},
   "outputs": [
    {
     "name": "stderr",
     "output_type": "stream",
     "text": [
      "/Users/kxu/Scenic/src/scenic/core/errors.py:271: UserWarning: unable to install sys.excepthook to format Scenic backtraces\n",
      "  warnings.warn(\"unable to install sys.excepthook to format Scenic backtraces\")\n",
      "/Users/kxu/mambaforge/envs/scenicgym/lib/python3.10/site-packages/trimesh/grouping.py:15: UserWarning: A NumPy version >=1.23.5 and <2.3.0 is required for this version of SciPy (detected version 1.23.4)\n",
      "  from scipy.spatial import cKDTree\n"
     ]
    }
   ],
   "source": [
    "from scenic.gym import ScenicGymEnv\n",
    "import scenic\n",
    "from scenic.simulators.newtonian import NewtonianSimulator"
   ]
  },
  {
   "cell_type": "code",
   "execution_count": 17,
   "id": "f545c241",
   "metadata": {},
   "outputs": [
    {
     "name": "stderr",
     "output_type": "stream",
     "text": [
      "/Users/kxu/Scenic/src/scenic/syntax/veneer.py:1526: UserWarning: While sampling internally to determine if a random region provides an orientation, the following exception was raised: AssertionError()\n",
      "  warnings.warn(\n"
     ]
    }
   ],
   "source": [
    "scenario = scenic.scenarioFromFile(\"/Users/kxu/Scenic/src/scenic/gym/examples/newtonian1.scenic\",\n",
    "                                   model=\"scenic.simulators.newtonian.driving_model\",\n",
    "                                   mode2D=True)"
   ]
  },
  {
   "cell_type": "code",
   "execution_count": 16,
   "id": "b3e360bf",
   "metadata": {},
   "outputs": [
    {
     "ename": "RejectionException",
     "evalue": "failed to generate scenario in 2000 iterations",
     "output_type": "error",
     "traceback": [
      "\u001b[0;31m---------------------------------------------------------------------------\u001b[0m",
      "\u001b[0;31mRejectionException\u001b[0m                        Traceback (most recent call last)",
      "File \u001b[0;32m~/Scenic/src/scenic/core/scenarios.py:433\u001b[0m, in \u001b[0;36mScenario.generateBatch\u001b[0;34m(self, numScenes, maxIterations, verbosity, feedback)\u001b[0m\n\u001b[1;32m    432\u001b[0m remainingIts \u001b[38;5;241m=\u001b[39m maxIterations \u001b[38;5;241m-\u001b[39m totalIterations\n\u001b[0;32m--> 433\u001b[0m scene, iterations \u001b[38;5;241m=\u001b[39m \u001b[38;5;28;43mself\u001b[39;49m\u001b[38;5;241;43m.\u001b[39;49m\u001b[43m_generateInner\u001b[49m\u001b[43m(\u001b[49m\u001b[43mremainingIts\u001b[49m\u001b[43m,\u001b[49m\u001b[43m \u001b[49m\u001b[43mverbosity\u001b[49m\u001b[43m,\u001b[49m\u001b[43m \u001b[49m\u001b[43mfeedback\u001b[49m\u001b[43m)\u001b[49m\n\u001b[1;32m    434\u001b[0m scenes\u001b[38;5;241m.\u001b[39mappend(scene)\n",
      "File \u001b[0;32m~/Scenic/src/scenic/core/scenarios.py:461\u001b[0m, in \u001b[0;36mScenario._generateInner\u001b[0;34m(self, maxIterations, verbosity, feedback)\u001b[0m\n\u001b[1;32m    460\u001b[0m \u001b[38;5;28;01mif\u001b[39;00m iterations \u001b[38;5;241m>\u001b[39m\u001b[38;5;241m=\u001b[39m maxIterations:\n\u001b[0;32m--> 461\u001b[0m     \u001b[38;5;28;01mraise\u001b[39;00m RejectionException(\n\u001b[1;32m    462\u001b[0m         \u001b[38;5;124mf\u001b[39m\u001b[38;5;124m\"\u001b[39m\u001b[38;5;124mfailed to generate scenario in \u001b[39m\u001b[38;5;132;01m{\u001b[39;00miterations\u001b[38;5;132;01m}\u001b[39;00m\u001b[38;5;124m iterations\u001b[39m\u001b[38;5;124m\"\u001b[39m\n\u001b[1;32m    463\u001b[0m     )\n\u001b[1;32m    464\u001b[0m iterations \u001b[38;5;241m+\u001b[39m\u001b[38;5;241m=\u001b[39m \u001b[38;5;241m1\u001b[39m\n",
      "\u001b[0;31mRejectionException\u001b[0m: failed to generate scenario in 2000 iterations",
      "\nDuring handling of the above exception, another exception occurred:\n",
      "\u001b[0;31mRejectionException\u001b[0m                        Traceback (most recent call last)",
      "Cell \u001b[0;32mIn [16], line 1\u001b[0m\n\u001b[0;32m----> 1\u001b[0m scene, _ \u001b[38;5;241m=\u001b[39m \u001b[43mscenario\u001b[49m\u001b[38;5;241;43m.\u001b[39;49m\u001b[43mgenerate\u001b[49m\u001b[43m(\u001b[49m\u001b[43m)\u001b[49m\n\u001b[1;32m      2\u001b[0m simulator \u001b[38;5;241m=\u001b[39m NewtonianSimulator()\n\u001b[1;32m      3\u001b[0m simulation \u001b[38;5;241m=\u001b[39m simulator\u001b[38;5;241m.\u001b[39msimulate(scene, maxSteps\u001b[38;5;241m=\u001b[39m\u001b[38;5;241m20\u001b[39m)\n",
      "File \u001b[0;32m~/Scenic/src/scenic/core/scenarios.py:403\u001b[0m, in \u001b[0;36mScenario.generate\u001b[0;34m(self, maxIterations, verbosity, feedback)\u001b[0m\n\u001b[1;32m    386\u001b[0m \u001b[38;5;28;01mdef\u001b[39;00m \u001b[38;5;21mgenerate\u001b[39m(\u001b[38;5;28mself\u001b[39m, maxIterations\u001b[38;5;241m=\u001b[39m\u001b[38;5;241m2000\u001b[39m, verbosity\u001b[38;5;241m=\u001b[39m\u001b[38;5;241m0\u001b[39m, feedback\u001b[38;5;241m=\u001b[39m\u001b[38;5;28;01mNone\u001b[39;00m):\n\u001b[1;32m    387\u001b[0m     \u001b[38;5;124;03m\"\"\"Sample a `Scene` from this scenario.\u001b[39;00m\n\u001b[1;32m    388\u001b[0m \n\u001b[1;32m    389\u001b[0m \u001b[38;5;124;03m    For a description of how scene generation is done, see `scene generation`.\u001b[39;00m\n\u001b[0;32m   (...)\u001b[0m\n\u001b[1;32m    401\u001b[0m \u001b[38;5;124;03m        `RejectionException`: if no valid sample is found in **maxIterations** iterations.\u001b[39;00m\n\u001b[1;32m    402\u001b[0m \u001b[38;5;124;03m    \"\"\"\u001b[39;00m\n\u001b[0;32m--> 403\u001b[0m     scenes, iterations \u001b[38;5;241m=\u001b[39m \u001b[38;5;28;43mself\u001b[39;49m\u001b[38;5;241;43m.\u001b[39;49m\u001b[43mgenerateBatch\u001b[49m\u001b[43m(\u001b[49m\u001b[38;5;241;43m1\u001b[39;49m\u001b[43m,\u001b[49m\u001b[43m \u001b[49m\u001b[43mmaxIterations\u001b[49m\u001b[43m,\u001b[49m\u001b[43m \u001b[49m\u001b[43mverbosity\u001b[49m\u001b[43m,\u001b[49m\u001b[43m \u001b[49m\u001b[43mfeedback\u001b[49m\u001b[43m)\u001b[49m\n\u001b[1;32m    404\u001b[0m     \u001b[38;5;28;01mreturn\u001b[39;00m scenes[\u001b[38;5;241m0\u001b[39m], iterations\n",
      "File \u001b[0;32m~/Scenic/src/scenic/core/scenarios.py:437\u001b[0m, in \u001b[0;36mScenario.generateBatch\u001b[0;34m(self, numScenes, maxIterations, verbosity, feedback)\u001b[0m\n\u001b[1;32m    435\u001b[0m         totalIterations \u001b[38;5;241m+\u001b[39m\u001b[38;5;241m=\u001b[39m iterations\n\u001b[1;32m    436\u001b[0m     \u001b[38;5;28;01mexcept\u001b[39;00m RejectionException:\n\u001b[0;32m--> 437\u001b[0m         \u001b[38;5;28;01mraise\u001b[39;00m RejectionException(\n\u001b[1;32m    438\u001b[0m             \u001b[38;5;124mf\u001b[39m\u001b[38;5;124m\"\u001b[39m\u001b[38;5;124mfailed to generate scenario in \u001b[39m\u001b[38;5;132;01m{\u001b[39;00mmaxIterations\u001b[38;5;132;01m}\u001b[39;00m\u001b[38;5;124m iterations\u001b[39m\u001b[38;5;124m\"\u001b[39m\n\u001b[1;32m    439\u001b[0m         )\n\u001b[1;32m    441\u001b[0m \u001b[38;5;28;01mreturn\u001b[39;00m scenes, totalIterations\n",
      "\u001b[0;31mRejectionException\u001b[0m: failed to generate scenario in 2000 iterations"
     ]
    }
   ],
   "source": [
    "scene, _ = scenario.generate()\n",
    "simulator = NewtonianSimulator()\n",
    "simulation = simulator.simulate(scene, maxSteps=20)\n",
    "if simulation:  # `simulate` can return None if simulation fails\n",
    "        result = simulation.result\n",
    "        for i, state in enumerate(result.trajectory):\n",
    "                egoPos, parkedCarPos = state\n",
    "                print(f'Time step {i}: ego at {egoPos}; parked car at {parkedCarPos}')"
   ]
  },
  {
   "cell_type": "code",
   "execution_count": 13,
   "id": "11e17400",
   "metadata": {},
   "outputs": [
    {
     "name": "stdout",
     "output_type": "stream",
     "text": [
      "Minimum distance recorded: 20.92998963824746\n",
      "Minimum distance recorded: 30.527143539747286\n",
      "Minimum distance recorded: 27.194520863495768\n",
      "Minimum distance recorded: 24.365648836077312\n",
      "Minimum distance recorded: 35.187403788672256\n",
      "Minimum distance recorded: 30.642778366416813\n",
      "Minimum distance recorded: 17.431423613458808\n",
      "Minimum distance recorded: 24.02292876854291\n",
      "Minimum distance recorded: 19.73745540254401\n",
      "Minimum distance recorded: 35.14580473584415\n",
      "Minimum distance recorded: 38.18792522100311\n",
      "Minimum distance recorded: 29.88623831688534\n",
      "Minimum distance recorded: 16.759763799729885\n",
      "Minimum distance recorded: 16.88542391570151\n",
      "Minimum distance recorded: 16.05835158515497\n",
      "Minimum distance recorded: 36.31748993530713\n",
      "Minimum distance recorded: 20.548025471952222\n",
      "Minimum distance recorded: 37.41408745716783\n",
      "Minimum distance recorded: 43.24722890607816\n",
      "Minimum distance recorded: 38.023797457610414\n",
      "Minimum distance recorded: 23.6267134711386\n",
      "Minimum distance recorded: 33.096352347989374\n",
      "Minimum distance recorded: 18.877415421648674\n",
      "Minimum distance recorded: 28.659317903174323\n",
      "Minimum distance recorded: 19.62812979116792\n",
      "Minimum distance recorded: 18.696190731221233\n",
      "Minimum distance recorded: 29.245624139948895\n",
      "Minimum distance recorded: 38.89222053593279\n",
      "Minimum distance recorded: 19.141936707525815\n",
      "Minimum distance recorded: 24.606972610045606\n",
      "Minimum distance recorded: 43.642387238624664\n",
      "Minimum distance recorded: 22.143899529198013\n",
      "Minimum distance recorded: 17.518098766772457\n",
      "Minimum distance recorded: 22.32655755055396\n",
      "Minimum distance recorded: 21.777719122389293\n",
      "Minimum distance recorded: 23.266475108414234\n",
      "Minimum distance recorded: 30.433320876894243\n",
      "Minimum distance recorded: 17.384008481965466\n",
      "Minimum distance recorded: 38.794197668364845\n",
      "Minimum distance recorded: 43.85103990776281\n",
      "Minimum distance recorded: 17.478528146499734\n",
      "Minimum distance recorded: 20.12507461889214\n",
      "Minimum distance recorded: 31.904527765517933\n",
      "Minimum distance recorded: 27.82621106970726\n",
      "Minimum distance recorded: 35.77601150758525\n",
      "Minimum distance recorded: 21.30680346782718\n",
      "Minimum distance recorded: 17.78735728798036\n",
      "Minimum distance recorded: 15.735045616702827\n",
      "Minimum distance recorded: 40.739851504197226\n",
      "Minimum distance recorded: 30.436890862253197\n",
      "Minimum distance recorded: 25.518300504537155\n",
      "Minimum distance recorded: 36.53220885486436\n",
      "Minimum distance recorded: 20.451395063865352\n",
      "Minimum distance recorded: 23.375836236581264\n",
      "Minimum distance recorded: 22.558887309920514\n",
      "Minimum distance recorded: 35.57419191934287\n",
      "Minimum distance recorded: 24.076757319763068\n",
      "Minimum distance recorded: 34.243278357928716\n",
      "Minimum distance recorded: 23.57552229899229\n",
      "Minimum distance recorded: 37.06558326110942\n",
      "Minimum distance recorded: 25.638400614461215\n",
      "Minimum distance recorded: 41.884687717338515\n",
      "Minimum distance recorded: 27.520393980378813\n",
      "Minimum distance recorded: 25.73681609342375\n",
      "Minimum distance recorded: 43.41260505430945\n",
      "Minimum distance recorded: 36.182601617174946\n",
      "Minimum distance recorded: 22.918457161248895\n",
      "Minimum distance recorded: 41.430041315954476\n",
      "Minimum distance recorded: 22.826595844611386\n",
      "Minimum distance recorded: 37.230780866100936\n",
      "Minimum distance recorded: 35.07434412318367\n",
      "Minimum distance recorded: 20.080112074797267\n",
      "Minimum distance recorded: 25.747911944581848\n",
      "Minimum distance recorded: 27.832809227936313\n",
      "Minimum distance recorded: 19.069799855192432\n",
      "Minimum distance recorded: 15.716013997648265\n",
      "Minimum distance recorded: 14.672239175566537\n",
      "Minimum distance recorded: 29.241737651925263\n",
      "Minimum distance recorded: 17.285667147173662\n",
      "Minimum distance recorded: 25.832042217660824\n",
      "Minimum distance recorded: 25.610730781426348\n",
      "Minimum distance recorded: 22.52962317538801\n",
      "Minimum distance recorded: 33.366027450890115\n",
      "Minimum distance recorded: 43.507365387945846\n",
      "Minimum distance recorded: 38.17008267466154\n",
      "Minimum distance recorded: 22.207585097920553\n",
      "Minimum distance recorded: 14.439279896838752\n",
      "Minimum distance recorded: 40.53909887069701\n",
      "Minimum distance recorded: 35.77840565066815\n",
      "Minimum distance recorded: 30.882952171568927\n",
      "Minimum distance recorded: 32.372127987552126\n",
      "Minimum distance recorded: 14.803733120636986\n",
      "Minimum distance recorded: 33.78747966112394\n",
      "Minimum distance recorded: 16.23479498268183\n",
      "Minimum distance recorded: 18.100953928965133\n",
      "Minimum distance recorded: 23.34148406281476\n",
      "Minimum distance recorded: 23.807677800516622\n",
      "Minimum distance recorded: 30.39598532254692\n",
      "Minimum distance recorded: 27.46329968702211\n",
      "Minimum distance recorded: 36.73651380423248\n"
     ]
    }
   ],
   "source": [
    "result = None\n",
    "\n",
    "for i in range(100):\n",
    "    scene, _ = scenario.generate(feedback=result)\n",
    "    simulator = NewtonianSimulator()\n",
    "    simulation = simulator.simulate(scene, maxSteps=20)\n",
    "    if simulation:  # `simulate` can return None if simulation fails\n",
    "            result = simulation.result\n",
    "            dist = []\n",
    "            for i, state in enumerate(result.trajectory):\n",
    "                    egoPos, parkedCarPos = state\n",
    "                    #print(f'Time step {i}: ego at {egoPos}; parked car at {parkedCarPos}')\n",
    "                    dist.append((egoPos - parkedCarPos).norm())\n",
    "            result = min(dist)\n",
    "            print(f\"Minimum distance recorded: {result}\")"
   ]
  },
  {
   "cell_type": "code",
   "execution_count": null,
   "id": "bf4787d2",
   "metadata": {},
   "outputs": [],
   "source": []
  }
 ],
 "metadata": {
  "kernelspec": {
   "display_name": "Python 3 (ipykernel)",
   "language": "python",
   "name": "python3"
  },
  "language_info": {
   "codemirror_mode": {
    "name": "ipython",
    "version": 3
   },
   "file_extension": ".py",
   "mimetype": "text/x-python",
   "name": "python",
   "nbconvert_exporter": "python",
   "pygments_lexer": "ipython3",
   "version": "3.10.0"
  }
 },
 "nbformat": 4,
 "nbformat_minor": 5
}
