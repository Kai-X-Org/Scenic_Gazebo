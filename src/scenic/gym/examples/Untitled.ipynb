{
 "cells": [
  {
   "cell_type": "code",
   "execution_count": 1,
   "id": "00c0a66b",
   "metadata": {},
   "outputs": [
    {
     "name": "stderr",
     "output_type": "stream",
     "text": [
      "/Users/kxu/Scenic/src/scenic/core/errors.py:271: UserWarning: unable to install sys.excepthook to format Scenic backtraces\n",
      "  warnings.warn(\"unable to install sys.excepthook to format Scenic backtraces\")\n",
      "/Users/kxu/mambaforge/envs/scenicgym/lib/python3.10/site-packages/trimesh/grouping.py:15: UserWarning: A NumPy version >=1.23.5 and <2.3.0 is required for this version of SciPy (detected version 1.23.4)\n",
      "  from scipy.spatial import cKDTree\n"
     ]
    }
   ],
   "source": [
    "from scenic.gym import ScenicGymEnv\n",
    "import scenic\n",
    "from scenic.simulators.newtonian import NewtonianSimulator"
   ]
  },
  {
   "cell_type": "code",
   "execution_count": 18,
   "id": "d31fed22",
   "metadata": {},
   "outputs": [],
   "source": [
    "scenario = scenic.scenarioFromFile(\"/Users/kxu/Scenic/src/scenic/gym/examples/newtonian1.scenic\",\n",
    "                                   model=\"scenic.simulators.newtonian.driving_model\",\n",
    "                                   mode2D=True)"
   ]
  },
  {
   "cell_type": "code",
   "execution_count": 20,
   "id": "e4606e7e",
   "metadata": {},
   "outputs": [
    {
     "name": "stdout",
     "output_type": "stream",
     "text": [
      "Minimum distance recorded: 29.349621494731828\n",
      "Minimum distance recorded: 32.19507941652059\n",
      "Minimum distance recorded: 28.456640684490022\n",
      "Minimum distance recorded: 16.47568917131173\n",
      "Minimum distance recorded: 39.93448537882692\n",
      "Minimum distance recorded: 14.549591978450724\n",
      "Minimum distance recorded: 21.092100580311744\n",
      "Minimum distance recorded: 20.120050735460556\n",
      "Minimum distance recorded: 27.205290662605382\n",
      "Minimum distance recorded: 31.47803169811178\n",
      "Minimum distance recorded: 18.431017686058485\n",
      "Minimum distance recorded: 16.625860591959494\n",
      "Minimum distance recorded: 23.863012241212555\n",
      "Minimum distance recorded: 15.89741808784775\n",
      "Minimum distance recorded: 15.685042128536672\n",
      "Minimum distance recorded: 37.15907193456931\n",
      "Minimum distance recorded: 31.570119159420727\n",
      "Minimum distance recorded: 28.412279804402267\n",
      "Minimum distance recorded: 21.355577807416644\n",
      "Minimum distance recorded: 23.575513157521726\n",
      "Minimum distance recorded: 32.41263381341537\n",
      "Minimum distance recorded: 15.657576998344908\n",
      "Minimum distance recorded: 19.53594074615258\n",
      "Minimum distance recorded: 39.51272454811728\n",
      "Minimum distance recorded: 16.039460967527305\n",
      "Minimum distance recorded: 40.35795622328412\n",
      "Minimum distance recorded: 16.33399450788341\n",
      "Minimum distance recorded: 17.952776209363975\n",
      "Minimum distance recorded: 37.08983175557876\n",
      "Minimum distance recorded: 34.97382889138834\n",
      "Minimum distance recorded: 20.586629958030002\n",
      "Minimum distance recorded: 30.775926386696227\n",
      "Minimum distance recorded: 14.315558449781044\n",
      "Minimum distance recorded: 30.78489238310239\n",
      "Minimum distance recorded: 39.99995694456103\n",
      "Minimum distance recorded: 41.62441730090786\n",
      "Minimum distance recorded: 41.06645042437921\n",
      "Minimum distance recorded: 28.98154117299805\n",
      "Minimum distance recorded: 18.4136915245961\n",
      "Minimum distance recorded: 39.328518433878614\n",
      "Minimum distance recorded: 29.517670090767645\n",
      "Minimum distance recorded: 19.61717442642875\n",
      "Minimum distance recorded: 34.626354613721574\n",
      "Minimum distance recorded: 28.36352872949948\n",
      "Minimum distance recorded: 41.09922401226165\n",
      "Minimum distance recorded: 37.34960972976845\n",
      "Minimum distance recorded: 24.788599709467224\n",
      "Minimum distance recorded: 34.214366556692845\n",
      "Minimum distance recorded: 31.506988674996677\n",
      "Minimum distance recorded: 18.039686794583815\n",
      "Minimum distance recorded: 18.042302481988155\n",
      "Minimum distance recorded: 14.395768595332292\n",
      "Minimum distance recorded: 28.945330162631404\n",
      "Minimum distance recorded: 39.73210253813002\n",
      "Minimum distance recorded: 23.329383364497723\n",
      "Minimum distance recorded: 43.15075956278637\n",
      "Minimum distance recorded: 36.518579271772786\n",
      "Minimum distance recorded: 40.91483650978816\n",
      "Minimum distance recorded: 15.23492595650484\n",
      "Minimum distance recorded: 20.239591259419765\n",
      "Minimum distance recorded: 15.348746905938418\n",
      "Minimum distance recorded: 42.51198701691098\n",
      "Minimum distance recorded: 36.227854378885915\n",
      "Minimum distance recorded: 19.54436511024357\n",
      "Minimum distance recorded: 36.918490286135416\n",
      "Minimum distance recorded: 43.87050554918224\n",
      "Minimum distance recorded: 23.296356695082117\n",
      "Minimum distance recorded: 16.930514826549278\n",
      "Minimum distance recorded: 16.321009497821038\n",
      "Minimum distance recorded: 17.800962763202897\n",
      "Minimum distance recorded: 20.710772050204447\n",
      "Minimum distance recorded: 43.10583938163183\n",
      "Minimum distance recorded: 36.96455993312663\n",
      "Minimum distance recorded: 19.02734217527088\n",
      "Minimum distance recorded: 25.335810474930476\n",
      "Minimum distance recorded: 15.413180323290678\n",
      "Minimum distance recorded: 37.329474557928684\n",
      "Minimum distance recorded: 41.95750542183697\n",
      "Minimum distance recorded: 30.313529134172313\n",
      "Minimum distance recorded: 19.25707347700461\n",
      "Minimum distance recorded: 20.521169271636985\n",
      "Minimum distance recorded: 26.18986864476187\n",
      "Minimum distance recorded: 35.05289567040783\n",
      "Minimum distance recorded: 34.426776288221085\n",
      "Minimum distance recorded: 35.22575787906455\n",
      "Minimum distance recorded: 36.14514238428167\n",
      "Minimum distance recorded: 14.693265493331955\n",
      "Minimum distance recorded: 25.310301053448214\n",
      "Minimum distance recorded: 39.467262879205904\n",
      "Minimum distance recorded: 15.76644491905411\n",
      "Minimum distance recorded: 31.780558864258648\n",
      "Minimum distance recorded: 31.766580305684595\n",
      "Minimum distance recorded: 31.170862338730693\n",
      "Minimum distance recorded: 37.71516036715746\n",
      "Minimum distance recorded: 40.671349805694675\n",
      "Minimum distance recorded: 21.762904570626816\n",
      "Minimum distance recorded: 14.235646856598038\n",
      "Minimum distance recorded: 18.22698956120196\n",
      "Minimum distance recorded: 31.57421986540559\n",
      "Minimum distance recorded: 40.01390619235332\n"
     ]
    }
   ],
   "source": [
    "result = None\n",
    "\n",
    "for i in range(100):\n",
    "    scene, _ = scenario.generate(feedback=result)\n",
    "    simulator = NewtonianSimulator()\n",
    "    simulation = simulator.simulate(scene, maxSteps=20)\n",
    "    if simulation:  # `simulate` can return None if simulation fails\n",
    "            result = simulation.result\n",
    "            dist = []\n",
    "            for i, state in enumerate(result.trajectory):\n",
    "                    egoPos, parkedCarPos = state\n",
    "                    #print(f'Time step {i}: ego at {egoPos}; parked car at {parkedCarPos}')\n",
    "                    dist.append((egoPos - parkedCarPos).norm())\n",
    "            result = min(dist)\n",
    "            print(f\"Minimum distance recorded: {result}\")"
   ]
  },
  {
   "cell_type": "code",
   "execution_count": 21,
   "id": "ec13207f",
   "metadata": {},
   "outputs": [],
   "source": [
    "from scenic.core.scenarios import Scenario"
   ]
  },
  {
   "cell_type": "code",
   "execution_count": 24,
   "id": "a6e91832",
   "metadata": {},
   "outputs": [],
   "source": [
    "def foo(simulator : type = NewtonianSimulator):\n",
    "    return simulator"
   ]
  },
  {
   "cell_type": "code",
   "execution_count": 26,
   "id": "3f93fcca",
   "metadata": {},
   "outputs": [
    {
     "data": {
      "text/plain": [
       "<scenic.simulators.newtonian.simulator.NewtonianSimulator at 0x2ac705ff0>"
      ]
     },
     "execution_count": 26,
     "metadata": {},
     "output_type": "execute_result"
    }
   ],
   "source": []
  },
  {
   "cell_type": "code",
   "execution_count": null,
   "id": "e0cb486c",
   "metadata": {},
   "outputs": [],
   "source": []
  }
 ],
 "metadata": {
  "kernelspec": {
   "display_name": "Python 3 (ipykernel)",
   "language": "python",
   "name": "python3"
  },
  "language_info": {
   "codemirror_mode": {
    "name": "ipython",
    "version": 3
   },
   "file_extension": ".py",
   "mimetype": "text/x-python",
   "name": "python",
   "nbconvert_exporter": "python",
   "pygments_lexer": "ipython3",
   "version": "3.10.0"
  }
 },
 "nbformat": 4,
 "nbformat_minor": 5
}
