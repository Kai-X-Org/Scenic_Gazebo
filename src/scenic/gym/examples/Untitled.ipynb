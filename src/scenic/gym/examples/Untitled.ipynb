{
 "cells": [
  {
   "cell_type": "code",
   "execution_count": 1,
   "id": "00c0a66b",
   "metadata": {},
   "outputs": [
    {
     "name": "stderr",
     "output_type": "stream",
     "text": [
      "/Users/kxu/Scenic/src/scenic/core/errors.py:271: UserWarning: unable to install sys.excepthook to format Scenic backtraces\n",
      "  warnings.warn(\"unable to install sys.excepthook to format Scenic backtraces\")\n",
      "/Users/kxu/mambaforge/envs/scenicgym/lib/python3.10/site-packages/trimesh/grouping.py:15: UserWarning: A NumPy version >=1.23.5 and <2.3.0 is required for this version of SciPy (detected version 1.23.4)\n",
      "  from scipy.spatial import cKDTree\n"
     ]
    }
   ],
   "source": [
    "from scenic.gym import ScenicGymEnv\n",
    "import scenic\n",
    "from scenic.simulators.newtonian import NewtonianSimulator"
   ]
  },
  {
   "cell_type": "code",
   "execution_count": 2,
   "id": "d31fed22",
   "metadata": {},
   "outputs": [],
   "source": [
    "scenario = scenic.scenarioFromFile(\"/Users/kxu/Scenic/src/scenic/gym/examples/newtonian1.scenic\",\n",
    "                                   model=\"scenic.simulators.newtonian_gym.driving_model\",\n",
    "                               mode2D=True)"
   ]
  },
  {
   "cell_type": "code",
   "execution_count": 3,
   "id": "b32d1baa",
   "metadata": {},
   "outputs": [],
   "source": [
    "env = ScenicGymEnv(scenario=scenario, simulator_type=NewtonianSimulator, max_steps=20)"
   ]
  },
  {
   "cell_type": "code",
   "execution_count": 4,
   "id": "c1e9c759",
   "metadata": {},
   "outputs": [
    {
     "ename": "NameError",
     "evalue": "name 'ResetException' is not defined",
     "output_type": "error",
     "traceback": [
      "\u001b[0;31m---------------------------------------------------------------------------\u001b[0m",
      "\u001b[0;31mNameError\u001b[0m                                 Traceback (most recent call last)",
      "Cell \u001b[0;32mIn [4], line 1\u001b[0m\n\u001b[0;32m----> 1\u001b[0m \u001b[43menv\u001b[49m\u001b[38;5;241;43m.\u001b[39;49m\u001b[43mreset\u001b[49m\u001b[43m(\u001b[49m\u001b[43m)\u001b[49m\n",
      "File \u001b[0;32m~/Scenic/src/scenic/gym/scenic_gym.py:72\u001b[0m, in \u001b[0;36mScenicGymEnv.reset\u001b[0;34m(self, seed, options)\u001b[0m\n\u001b[1;32m     69\u001b[0m \u001b[38;5;28;01mdef\u001b[39;00m \u001b[38;5;21mreset\u001b[39m(\u001b[38;5;28mself\u001b[39m, seed\u001b[38;5;241m=\u001b[39m\u001b[38;5;28;01mNone\u001b[39;00m, options\u001b[38;5;241m=\u001b[39m\u001b[38;5;28;01mNone\u001b[39;00m): \u001b[38;5;66;03m# TODO will setting seed here conflict with VerifAI's setting of seed?\u001b[39;00m\n\u001b[1;32m     70\u001b[0m     \u001b[38;5;66;03m# only setting enviornment seed, not torch seed?\u001b[39;00m\n\u001b[1;32m     71\u001b[0m     \u001b[38;5;28msuper\u001b[39m()\u001b[38;5;241m.\u001b[39mreset(seed\u001b[38;5;241m=\u001b[39mseed)\n\u001b[0;32m---> 72\u001b[0m     \u001b[38;5;28mself\u001b[39m\u001b[38;5;241m.\u001b[39mloop\u001b[38;5;241m.\u001b[39mthrow(\u001b[43mResetException\u001b[49m())\n\u001b[1;32m     73\u001b[0m     observation, info \u001b[38;5;241m=\u001b[39m \u001b[38;5;28mnext\u001b[39m(\u001b[38;5;28mself\u001b[39m\u001b[38;5;241m.\u001b[39mloop) \u001b[38;5;66;03m# not doing self.scene.send(action) just yet\u001b[39;00m\n\u001b[1;32m     75\u001b[0m     \u001b[38;5;28;01mreturn\u001b[39;00m observation, info\n",
      "\u001b[0;31mNameError\u001b[0m: name 'ResetException' is not defined"
     ]
    }
   ],
   "source": [
    "env.reset()"
   ]
  },
  {
   "cell_type": "code",
   "execution_count": null,
   "id": "e4606e7e",
   "metadata": {},
   "outputs": [],
   "source": [
    "result = None\n",
    "\n",
    "for i in range(100):\n",
    "    scene, _ = scenario.generate(feedback=result)\n",
    "    simulator = NewtonianSimulator()\n",
    "    simulation = simulator.simulate(scene, maxSteps=20)\n",
    "    if simulation:  # `simulate` can return None if simulation fails\n",
    "            result = simulation.result\n",
    "            dist = []\n",
    "            for i, state in enumerate(result.trajectory):\n",
    "                    egoPos, parkedCarPos = state\n",
    "                    #print(f'Time step {i}: ego at {egoPos}; parked car at {parkedCarPos}')\n",
    "                    dist.append((egoPos - parkedCarPos).norm())\n",
    "            result = min(dist)\n",
    "            print(f\"Minimum distance recorded: {result}\")"
   ]
  },
  {
   "cell_type": "code",
   "execution_count": null,
   "id": "ec13207f",
   "metadata": {},
   "outputs": [],
   "source": [
    "from scenic.core.scenarios import Scenario"
   ]
  },
  {
   "cell_type": "code",
   "execution_count": null,
   "id": "a6e91832",
   "metadata": {},
   "outputs": [],
   "source": [
    "def foo(simulator : type = NewtonianSimulator):\n",
    "    return simulator"
   ]
  },
  {
   "cell_type": "code",
   "execution_count": null,
   "id": "fe47b6f9",
   "metadata": {},
   "outputs": [],
   "source": []
  },
  {
   "cell_type": "code",
   "execution_count": null,
   "id": "8bfe146b",
   "metadata": {},
   "outputs": [],
   "source": []
  }
 ],
 "metadata": {
  "kernelspec": {
   "display_name": "Python 3 (ipykernel)",
   "language": "python",
   "name": "python3"
  },
  "language_info": {
   "codemirror_mode": {
    "name": "ipython",
    "version": 3
   },
   "file_extension": ".py",
   "mimetype": "text/x-python",
   "name": "python",
   "nbconvert_exporter": "python",
   "pygments_lexer": "ipython3",
   "version": "3.10.0"
  }
 },
 "nbformat": 4,
 "nbformat_minor": 5
}
