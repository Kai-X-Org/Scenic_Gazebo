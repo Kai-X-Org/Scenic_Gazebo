{
 "cells": [
  {
   "cell_type": "code",
   "execution_count": null,
   "id": "00c0a66b",
   "metadata": {},
   "outputs": [],
   "source": [
    "from scenic.gym import ScenicGymEnv\n",
    "import scenic\n",
    "from scenic.simulators.newtonian import NewtonianSimulator"
   ]
  },
  {
   "cell_type": "code",
   "execution_count": null,
   "id": "d31fed22",
   "metadata": {},
   "outputs": [],
   "source": [
    "scenario = scenic.scenarioFromFile(\"/Users/kxu/Scenic/src/scenic/gym/examples/newtonian1.scenic\",\n",
    "                                   model=\"scenic.simulators.newtonian.driving_model\",\n",
    "                               mode2D=True)"
   ]
  },
  {
   "cell_type": "code",
   "execution_count": null,
   "id": "35b8f135",
   "metadata": {},
   "outputs": [],
   "source": [
    "env = ScenicGymEnv(scenario=scenario, simulator_type=NewtonianSimulator)"
   ]
  },
  {
   "cell_type": "code",
   "execution_count": null,
   "id": "e4606e7e",
   "metadata": {},
   "outputs": [],
   "source": [
    "result = None\n",
    "\n",
    "for i in range(100):\n",
    "    scene, _ = scenario.generate(feedback=result)\n",
    "    simulator = NewtonianSimulator()\n",
    "    simulation = simulator.simulate(scene, maxSteps=20)\n",
    "    if simulation:  # `simulate` can return None if simulation fails\n",
    "            result = simulation.result\n",
    "            dist = []\n",
    "            for i, state in enumerate(result.trajectory):\n",
    "                    egoPos, parkedCarPos = state\n",
    "                    #print(f'Time step {i}: ego at {egoPos}; parked car at {parkedCarPos}')\n",
    "                    dist.append((egoPos - parkedCarPos).norm())\n",
    "            result = min(dist)\n",
    "            print(f\"Minimum distance recorded: {result}\")"
   ]
  },
  {
   "cell_type": "code",
   "execution_count": null,
   "id": "ec13207f",
   "metadata": {},
   "outputs": [],
   "source": [
    "from scenic.core.scenarios import Scenario"
   ]
  },
  {
   "cell_type": "code",
   "execution_count": null,
   "id": "a6e91832",
   "metadata": {},
   "outputs": [],
   "source": [
    "def foo(simulator : type = NewtonianSimulator):\n",
    "    return simulator"
   ]
  },
  {
   "cell_type": "code",
   "execution_count": null,
   "id": "f87ea2b0",
   "metadata": {},
   "outputs": [],
   "source": []
  },
  {
   "cell_type": "code",
   "execution_count": null,
   "id": "34b4b403",
   "metadata": {},
   "outputs": [],
   "source": []
  }
 ],
 "metadata": {
  "kernelspec": {
   "display_name": "Python 3 (ipykernel)",
   "language": "python",
   "name": "python3"
  },
  "language_info": {
   "codemirror_mode": {
    "name": "ipython",
    "version": 3
   },
   "file_extension": ".py",
   "mimetype": "text/x-python",
   "name": "python",
   "nbconvert_exporter": "python",
   "pygments_lexer": "ipython3",
   "version": "3.10.0"
  }
 },
 "nbformat": 4,
 "nbformat_minor": 5
}
